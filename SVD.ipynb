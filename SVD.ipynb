{
  "nbformat": 4,
  "nbformat_minor": 0,
  "metadata": {
    "colab": {
      "provenance": []
    },
    "kernelspec": {
      "name": "python3",
      "display_name": "Python 3"
    },
    "language_info": {
      "name": "python"
    }
  },
  "cells": [
    {
      "cell_type": "markdown",
      "source": [
        "Singular value Decomposition(SVD) Example"
      ],
      "metadata": {
        "id": "CSXp668Y6xTz"
      }
    },
    {
      "cell_type": "code",
      "source": [
        "import numpy as np\n",
        "np.set_printoptions(precision=4,suppress=True)"
      ],
      "metadata": {
        "id": "hksYDbY466dJ"
      },
      "execution_count": 21,
      "outputs": []
    },
    {
      "cell_type": "code",
      "source": [
        "a= np.array([[1,2,3,4],[1,1,2,3],[0,1,1,0]])\n",
        "print(a)"
      ],
      "metadata": {
        "colab": {
          "base_uri": "https://localhost:8080/"
        },
        "id": "9ttQmCqU7puW",
        "outputId": "72bfabb2-8af4-4e5d-f9c8-d4872c1f422f"
      },
      "execution_count": 22,
      "outputs": [
        {
          "output_type": "stream",
          "name": "stdout",
          "text": [
            "[[1 2 3 4]\n",
            " [1 1 2 3]\n",
            " [0 1 1 0]]\n"
          ]
        }
      ]
    },
    {
      "cell_type": "markdown",
      "source": [
        "SVD Method"
      ],
      "metadata": {
        "id": "99o_de8q8e_X"
      }
    },
    {
      "cell_type": "code",
      "source": [
        "u,s,vh= np.linalg.svd(a, full_matrices=True)"
      ],
      "metadata": {
        "id": "uQDDl1pV757A"
      },
      "execution_count": 23,
      "outputs": []
    },
    {
      "cell_type": "code",
      "source": [
        "u.shape, s.shape, vh.shape"
      ],
      "metadata": {
        "colab": {
          "base_uri": "https://localhost:8080/"
        },
        "id": "yvny2aq184pt",
        "outputId": "6127e947-a7ee-46a2-9617-ad71ac1c6198"
      },
      "execution_count": 24,
      "outputs": [
        {
          "output_type": "execute_result",
          "data": {
            "text/plain": [
              "((3, 3), (3,), (4, 4))"
            ]
          },
          "metadata": {},
          "execution_count": 24
        }
      ]
    },
    {
      "cell_type": "markdown",
      "source": [
        "u, vh is orthonormal"
      ],
      "metadata": {
        "id": "cISZVwaY9Vb3"
      }
    },
    {
      "cell_type": "code",
      "source": [
        "u\n",
        "u.dot(u.T)"
      ],
      "metadata": {
        "colab": {
          "base_uri": "https://localhost:8080/"
        },
        "id": "n0syinU585A0",
        "outputId": "cab6aa2f-1a2e-4aec-9db9-3f9d901fae4b"
      },
      "execution_count": 25,
      "outputs": [
        {
          "output_type": "execute_result",
          "data": {
            "text/plain": [
              "array([[ 1.,  0.,  0.],\n",
              "       [ 0.,  1., -0.],\n",
              "       [ 0., -0.,  1.]])"
            ]
          },
          "metadata": {},
          "execution_count": 25
        }
      ]
    },
    {
      "cell_type": "code",
      "source": [
        "vh\n",
        "vh.dot(vh.T)"
      ],
      "metadata": {
        "colab": {
          "base_uri": "https://localhost:8080/"
        },
        "id": "oF8hJcXJ9e0k",
        "outputId": "6541ab5f-a3c5-4397-8178-1bec7047ea5b"
      },
      "execution_count": 26,
      "outputs": [
        {
          "output_type": "execute_result",
          "data": {
            "text/plain": [
              "array([[ 1., -0.,  0.,  0.],\n",
              "       [-0.,  1.,  0., -0.],\n",
              "       [ 0.,  0.,  1., -0.],\n",
              "       [ 0., -0., -0.,  1.]])"
            ]
          },
          "metadata": {},
          "execution_count": 26
        }
      ]
    },
    {
      "cell_type": "code",
      "source": [
        "s"
      ],
      "metadata": {
        "colab": {
          "base_uri": "https://localhost:8080/"
        },
        "id": "tTSaaO4N9-gu",
        "outputId": "729a1702-74da-441c-bdf4-0bff14bde055"
      },
      "execution_count": 27,
      "outputs": [
        {
          "output_type": "execute_result",
          "data": {
            "text/plain": [
              "array([6.7509, 1.1734, 0.2186])"
            ]
          },
          "metadata": {},
          "execution_count": 27
        }
      ]
    },
    {
      "cell_type": "code",
      "source": [
        "s=[6.7509, 1.1734, 0.2186]"
      ],
      "metadata": {
        "id": "rphr7sA9CIQp"
      },
      "execution_count": 28,
      "outputs": []
    },
    {
      "cell_type": "markdown",
      "source": [
        "Since s is given as a 3 element array, we need to reshape it into a 3X4 array with 3 elements along its diagonal"
      ],
      "metadata": {
        "id": "MrgWotiZ-Tga"
      }
    },
    {
      "cell_type": "code",
      "source": [
        "sd= np.diag(s) #makes a 3 x 3 diagonal matrix"
      ],
      "metadata": {
        "id": "xwtIQoUh-DrN"
      },
      "execution_count": 29,
      "outputs": []
    },
    {
      "cell_type": "code",
      "source": [
        "sd.shape"
      ],
      "metadata": {
        "colab": {
          "base_uri": "https://localhost:8080/"
        },
        "id": "jMzf57UQ-8xu",
        "outputId": "05455150-cbce-4545-e0d9-179b980e9733"
      },
      "execution_count": 30,
      "outputs": [
        {
          "output_type": "execute_result",
          "data": {
            "text/plain": [
              "(3, 3)"
            ]
          },
          "metadata": {},
          "execution_count": 30
        }
      ]
    },
    {
      "cell_type": "code",
      "source": [
        "b= np.zeros((3,4))"
      ],
      "metadata": {
        "id": "G5Kei4qD_KcJ"
      },
      "execution_count": 31,
      "outputs": []
    },
    {
      "cell_type": "code",
      "source": [
        "b[:,:-1]=sd\n",
        "b"
      ],
      "metadata": {
        "colab": {
          "base_uri": "https://localhost:8080/"
        },
        "id": "Bh8gSl6w_O_y",
        "outputId": "bdec029f-5366-434a-f8f0-d45c83222a26"
      },
      "execution_count": 32,
      "outputs": [
        {
          "output_type": "execute_result",
          "data": {
            "text/plain": [
              "array([[6.7509, 0.    , 0.    , 0.    ],\n",
              "       [0.    , 1.1734, 0.    , 0.    ],\n",
              "       [0.    , 0.    , 0.2186, 0.    ]])"
            ]
          },
          "metadata": {},
          "execution_count": 32
        }
      ]
    },
    {
      "cell_type": "code",
      "source": [
        "sigma =b\n",
        "sigma"
      ],
      "metadata": {
        "colab": {
          "base_uri": "https://localhost:8080/"
        },
        "id": "ESW0g8Zj_PSK",
        "outputId": "e03b85f1-b301-4b65-fb3e-ab39a3acaf66"
      },
      "execution_count": 33,
      "outputs": [
        {
          "output_type": "execute_result",
          "data": {
            "text/plain": [
              "array([[6.7509, 0.    , 0.    , 0.    ],\n",
              "       [0.    , 1.1734, 0.    , 0.    ],\n",
              "       [0.    , 0.    , 0.2186, 0.    ]])"
            ]
          },
          "metadata": {},
          "execution_count": 33
        }
      ]
    },
    {
      "cell_type": "code",
      "source": [
        "print(np.dot(np.dot(u,sigma),vh))"
      ],
      "metadata": {
        "colab": {
          "base_uri": "https://localhost:8080/"
        },
        "id": "z3Q9j7XoAKlL",
        "outputId": "16765ac2-cb0e-4d08-fa14-b3bee72d9b6e"
      },
      "execution_count": 36,
      "outputs": [
        {
          "output_type": "stream",
          "name": "stdout",
          "text": [
            "[[ 1.  2.  3.  4.]\n",
            " [ 1.  1.  2.  3.]\n",
            " [-0.  1.  1.  0.]]\n"
          ]
        }
      ]
    }
  ]
}